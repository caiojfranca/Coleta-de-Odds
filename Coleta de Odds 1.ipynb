{
 "cells": [
  {
   "cell_type": "markdown",
   "id": "f8f3384a",
   "metadata": {},
   "source": [
    "# *CÓDIGO DE COLETA DE DADOS*"
   ]
  },
  {
   "cell_type": "code",
   "execution_count": 2,
   "id": "6985d17b-cc25-4db0-8b0b-7b643d77c5a8",
   "metadata": {},
   "outputs": [],
   "source": [
    "import pandas as pd\n",
    "import requests\n",
    "from bs4 import BeautifulSoup\n",
    "import time\n",
    "from selenium import webdriver\n",
    "from selenium.webdriver.chrome.options import Options\n",
    "from selenium.webdriver.common.by import By\n",
    "import re"
   ]
  },
  {
   "cell_type": "code",
   "execution_count": 3,
   "id": "7e77ff5d-8ab0-465f-8dd0-bec47c51e697",
   "metadata": {},
   "outputs": [],
   "source": [
    "chrome_options = Options()\n",
    "chrome_options.add_argument(\"--headless\")\n",
    "chrome_options.add_argument(\"--window-size=2920x1080\")"
   ]
  },
  {
   "cell_type": "code",
   "execution_count": 74,
   "id": "36f8bb00-6820-4850-bf16-728b29c37c07",
   "metadata": {},
   "outputs": [],
   "source": [
    "driver = webdriver.Chrome()"
   ]
  },
  {
   "cell_type": "code",
   "execution_count": 5,
   "id": "30ea7132",
   "metadata": {},
   "outputs": [],
   "source": [
    "driver = webdriver.Chrome(options=chrome_options)"
   ]
  },
  {
   "cell_type": "markdown",
   "id": "97df8e65-0d49-4dd2-b7b5-59364275a613",
   "metadata": {},
   "source": [
    "## *Função de Lista de Links para os Jogos*"
   ]
  },
  {
   "cell_type": "code",
   "execution_count": 63,
   "id": "0a20d377",
   "metadata": {},
   "outputs": [],
   "source": [
    "link_page = []\n",
    "anos = [2021, 2020, 2019, 2018,\n",
    "            2017, 2016, 2017, 2016,\n",
    "            2015, 2014, 2013, 2012,\n",
    "            2011, 2010]\n",
    "for ano in anos:    \n",
    "    for paginas in range(1, 9):         \n",
    "        link_page.append(\n",
    "            f'https://www.oddsportal.com/soccer/brazil/serie-a-{ano}/results/#/page/{paginas}/'\n",
    "        )"
   ]
  },
  {
   "cell_type": "code",
   "execution_count": 67,
   "id": "b996c370-1a3f-4867-9134-fb23f27304d1",
   "metadata": {},
   "outputs": [],
   "source": [
    "codigos = []\n",
    "todos_links = []\n",
    "def all_links():\n",
    "\n",
    "    for link in link_page:\n",
    "        driver.get(link)\n",
    "        html = driver.page_source\n",
    "        soup = BeautifulSoup(html, 'html')\n",
    "        jogos = soup.find_all('a', attrs={'href':re.compile('/soccer/brazil/serie-a-')})    \n",
    "        links = list(map(lambda x : x.attrs['href'],jogos[25:]))      \n",
    "        time.sleep(2)\n",
    "        for lin in links:\n",
    "            codigos.append(lin)\n",
    "            \n",
    "    for i in codigos: \n",
    "        todos_links.append(f'https://www.oddsportal.com{i}')"
   ]
  },
  {
   "cell_type": "markdown",
   "id": "c07f2426",
   "metadata": {},
   "source": [
    "### Posibilidade de coletar mais odds\n",
    "O site deixa coletar mais Odds caso você esteja devidamente cadastrado"
   ]
  },
  {
   "cell_type": "code",
   "execution_count": 219,
   "id": "52390d94",
   "metadata": {},
   "outputs": [],
   "source": [
    "#driver.get('https://www.oddsportal.com/login/')\n",
    "#driver.find_element(By.ID,\"login-username1\").send_keys('caiojfranca')\n",
    "#driver.find_element(By.ID,\"login-password1\").send_keys('caiocaio04')\n",
    "#driver.find_element(By.XPATH,'//*[@id=\"user-header-oddsformat-expander\"]').click()\n",
    "#driver.find_element(By.XPATH,'//*[@id=\"user-header-oddsformat\"]/li[1]/a').click()\n",
    "#driver.find_element(By.XPATH,'//*[@id=\"col-content\"]/div[2]/div/form/div[3]/button').click()"
   ]
  },
  {
   "cell_type": "markdown",
   "id": "670bba5b",
   "metadata": {},
   "source": [
    "## *FUNÇÃO PARA A COLETA DAS ODDS DIRETAMENTE NOS JOGOS*"
   ]
  },
  {
   "cell_type": "code",
   "execution_count": 80,
   "id": "3502b357",
   "metadata": {},
   "outputs": [],
   "source": [
    "odds = []\n",
    "casa = []\n",
    "falhas = []\n",
    "def Função_salvadora(x):\n",
    "        try:\n",
    "            driver.get(x)\n",
    "            html = driver.page_source\n",
    "            soup = BeautifulSoup(html, 'html')\n",
    "            nome = soup.find_all('h1')\n",
    "# INFORMAÇÕES SOBRE A DATA ESTÃO NA SEGUNDA POSIÇÃO        \n",
    "            data = soup.find_all('p')[1]\n",
    "            tabela = soup.find('tbody')\n",
    "            odd = tabela.find_all('td')\n",
    "# odd É A LISTA QUE CONTEM TODAS AS INFORMAÇÕES SOBRE AS ODDS\n",
    "# NO CASO A PRIMEIRA INFORMAÇÃO É O NOME DA CASA DE APOSTA\n",
    "            casas = odd[0::6]\n",
    "            for i in casas:\n",
    "                casa.append(i.text.replace(\"\\xa0\",\"\"))\n",
    "# AS SEGUNDAS INFORMAÇÃO SÃO SOBRE AS ODDS A FAVOR DO TIME DA CASA (WIN)\n",
    "            Win_Home = odd[1::6]\n",
    "# AS TERCEIRAS INFORMAÇÃO SÃO SOBRE AS ODDS DE EMPATE (DRAW)\n",
    "            Draw = odd[2::6]\n",
    "# AS QUATAS INFORMAÇÃO SÃO SOBRE AS ODDS A CONTRA DO TIME DA CASA (LOSE)\n",
    "            Lose_Home = odd[3::6]\n",
    "# DELETAR AS OUTRAS INFORMAÇÕES FICA A SEU CRITÉRIO\n",
    "            del odd[4::6]\n",
    "            del odd[4::5]\n",
    "# DADOS SOBRE A DATA DOS JOGOS\n",
    "            time = data.text.split(\" \")\n",
    "            week = time[0]\n",
    "            day = time[1]\n",
    "            month = time[2]\n",
    "            year = time[4]\n",
    "            hour = time[5]\n",
    "# NOMES DOS TIMES\n",
    "            team = nome[0].text.split(\"-\")\n",
    "            Home = team[0]\n",
    "            Away = team[1]\n",
    "# ORGANIZAR OS DADOS \n",
    "            for i in range(0, len(Draw)):\n",
    "                odds.append({\"Team Home\":f\"{Home}\",\n",
    "                         \"Team Away\":f\"{Away}\",\n",
    "                         \"Week day\":f\"{week}\",\n",
    "                         \"Day\":f\"{day}\",\n",
    "                         \"Month\":f\"{month}\",\n",
    "                         \"Year\":f\"{year}\",\n",
    "                         \"Hour\":f\"{hour}\",\n",
    "                         \"Casa\":f'{casa[i]}',\n",
    "                         \"Win Home\":f\"{Win_Home[i].text}\",\n",
    "                         \"Draw\":f\"{Draw[i].text}\",\n",
    "                         \"Lose Home\":f\"{Lose_Home[i].text}\"\n",
    "                })\n",
    "            print(f\"{contador} /Sucesso/ Jogo: {Home}x{Away}, do ano de {year}\")\n",
    "        \n",
    "        except:\n",
    "            falhas.append(contador-1)\n",
    "            print(f\"Falha no jogo Número: {contador-1} \")\n"
   ]
  },
  {
   "cell_type": "markdown",
   "id": "8e30c28f",
   "metadata": {},
   "source": [
    "## *RODAR O CÓDIGO*"
   ]
  },
  {
   "cell_type": "code",
   "execution_count": 81,
   "id": "6f7eb587",
   "metadata": {
    "scrolled": false
   },
   "outputs": [
    {
     "name": "stdout",
     "output_type": "stream",
     "text": [
      "1 /Sucesso/ Jogo: America MG x Sao Paulo, do ano de 2021,\n",
      "2 /Sucesso/ Jogo: Atletico GO x Flamengo RJ, do ano de 2021,\n",
      "3 /Sucesso/ Jogo: Bragantino x Internacional, do ano de 2021,\n",
      "4 /Sucesso/ Jogo: Juventude x Corinthians, do ano de 2021,\n",
      "5 /Sucesso/ Jogo: Fluminense x Chapecoense, do ano de 2021,\n",
      "6 /Sucesso/ Jogo: Fortaleza x Bahia, do ano de 2021,\n",
      "Falha no jogo Número: 6 \n",
      "8 /Sucesso/ Jogo: Palmeiras x Ceara, do ano de 2021,\n",
      "9 /Sucesso/ Jogo: Santos x Cuiaba, do ano de 2021,\n",
      "10 /Sucesso/ Jogo: Sport Recife x Athletico, do ano de 2021,\n"
     ]
    }
   ],
   "source": [
    "driver.get('https://www.oddsportal.com/login/')\n",
    "driver.find_element(By.XPATH,'//*[@id=\"user-header-oddsformat-expander\"]').click()\n",
    "driver.find_element(By.XPATH,'//*[@id=\"user-header-oddsformat\"]/li[1]/a').click()\n",
    "time.sleep(4)\n",
    "driver.find_element(By.ID,\"login-username1\").send_keys('LOGIN')\n",
    "driver.find_element(By.ID,\"login-password1\").send_keys('SENHA')\n",
    "driver.find_element(By.XPATH,'//*[@id=\"col-content\"]/div[2]/div/form/div[3]/button').click()"
   ]
  },
  {
   "cell_type": "code",
   "execution_count": null,
   "id": "f6ffc224",
   "metadata": {},
   "outputs": [],
   "source": [
    "all_links()"
   ]
  },
  {
   "cell_type": "code",
   "execution_count": null,
   "id": "85213967",
   "metadata": {},
   "outputs": [],
   "source": [
    "contador = 0\n",
    "for i in todos_links:\n",
    "    contador += 1\n",
    "    Função_salvadora(i)"
   ]
  }
 ],
 "metadata": {
  "kernelspec": {
   "display_name": "Python 3 (ipykernel)",
   "language": "python",
   "name": "python3"
  },
  "language_info": {
   "codemirror_mode": {
    "name": "ipython",
    "version": 3
   },
   "file_extension": ".py",
   "mimetype": "text/x-python",
   "name": "python",
   "nbconvert_exporter": "python",
   "pygments_lexer": "ipython3",
   "version": "3.9.12"
  }
 },
 "nbformat": 4,
 "nbformat_minor": 5
}
